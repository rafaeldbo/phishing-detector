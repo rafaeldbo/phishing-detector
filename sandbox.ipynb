{
 "cells": [
  {
   "cell_type": "markdown",
   "metadata": {},
   "source": [
    "[Phishing.Database](https://github.com/Phishing-Database/Phishing.Database)"
   ]
  },
  {
   "cell_type": "code",
   "execution_count": 30,
   "metadata": {},
   "outputs": [],
   "source": [
    "import os, random\n",
    "\n",
    "with open(\"./ALL-phishing-domains.txt\", \"r\") as file:\n",
    "    phishing_domains = [url.replace(\"\\n\", \"\").strip() for url in file.readlines()]\n",
    "    \n",
    "with open(\"./TLDs.txt\", \"r\") as file:\n",
    "    TLDs = [url.replace(\"\\n\", \"\").strip() for url in file.readlines()]"
   ]
  },
  {
   "cell_type": "code",
   "execution_count": 34,
   "metadata": {},
   "outputs": [],
   "source": [
    "# como pegar o primeiro \"/\" na string?\n",
    "def treat_url(url: str) -> str:\n",
    "    url_treated = url.strip()\n",
    "    url_treated = url_treated.replace(\"http://\", \"\").replace(\"https://\", \"\")\n",
    "    if \"/\" in url_treated:\n",
    "        url_treated = url_treated.split(\"/\")[0]\n",
    "    return url_treated\n",
    "\n",
    "def analyze_url_domains(url: str) -> dict:\n",
    "    url_domains = url.split(\".\")\n",
    "    tlds = []\n",
    "    for i in range(len(url_domains)):\n",
    "        tld = url_domains[-1]\n",
    "        if tld in TLDs:\n",
    "            tlds.append(tld)\n",
    "            url_domains = url_domains[:-1]\n",
    "        else:\n",
    "            break\n",
    "    tlds = tlds[::-1]\n",
    "    if len(url_domains) > 0:\n",
    "        domain = url_domains[-1]\n",
    "        subdomains = url_domains[:-1]\n",
    "        return subdomains, domain, tlds\n",
    "    else:\n",
    "        return [], \"\", tlds\n",
    "\n",
    "number_to_letter = {'4': 'a', '3': 'e', '1': 'i', '0': 'o', '5': 's', '7': 't'}\n",
    "def numbers_in_url(url: str) -> float:\n",
    "    count = 0\n",
    "    replaced = \"\"\n",
    "    for i, char in enumerate(url):\n",
    "        mapped_char = number_to_letter.get(char, char)\n",
    "        replaced += mapped_char\n",
    "        if char != mapped_char:\n",
    "            count += 1\n",
    "    return count/len(url), replaced\n",
    "\n",
    "special_characteres = ['!', '@', '#', '$', '%', '^', '&', '*', '(', ')', '=', '+', '{', '}', '[', ']', ':', ';', '\"', \"'\", '<', '>', ',', '?', '|']\n",
    "def special_characteres_in_url(url: str) -> int:\n",
    "    count = 0\n",
    "    for char in url:\n",
    "        if char in special_characteres:\n",
    "            count += 1\n",
    "    return count"
   ]
  },
  {
   "cell_type": "code",
   "execution_count": 42,
   "metadata": {},
   "outputs": [
    {
     "name": "stdout",
     "output_type": "stream",
     "text": [
      "https://db-autocertificamtps.com\n",
      "(0.0, 'db-autocertificamtps.com')\n",
      "0\n",
      "([], 'db-autocertificamtps', ['com'])\n"
     ]
    }
   ],
   "source": [
    "url = \"https://\" + random.choice(phishing_domains)\n",
    "print(url)\n",
    "url_treated = treat_url(url)\n",
    "print(numbers_in_url(url_treated))\n",
    "print(special_characteres_in_url(url_treated))\n",
    "print(analyze_url_domains(url_treated))"
   ]
  }
 ],
 "metadata": {
  "kernelspec": {
   "display_name": "env",
   "language": "python",
   "name": "python3"
  },
  "language_info": {
   "codemirror_mode": {
    "name": "ipython",
    "version": 3
   },
   "file_extension": ".py",
   "mimetype": "text/x-python",
   "name": "python",
   "nbconvert_exporter": "python",
   "pygments_lexer": "ipython3",
   "version": "3.13.2"
  }
 },
 "nbformat": 4,
 "nbformat_minor": 2
}
